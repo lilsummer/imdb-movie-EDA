{
 "cells": [
  {
   "cell_type": "markdown",
   "metadata": {},
   "source": [
    "## Regression model on tensorflow to predict "
   ]
  },
  {
   "cell_type": "markdown",
   "metadata": {},
   "source": [
    "[Numeric features + linear regression](#tag1)\n",
    "\n",
    "[Feature selection over correlation + linear regression](#tag2)\n",
    "\n",
    "[Add categorical features + linear regression](#tag3)\n",
    "\n",
    "[Add categorical features + ridge regression](#tag4) (best model)"
   ]
  },
  {
   "cell_type": "markdown",
   "metadata": {},
   "source": [
    "Reference https://www.kaggle.com/timoboz/test-nn-to-predict-score/notebook"
   ]
  },
  {
   "cell_type": "markdown",
   "metadata": {},
   "source": [
    "<a id='tag1'></a>\n",
    "### Numeric features + linear regression on Tensorflow\n",
    "\n",
    "* Features: only numerical features\n",
    "* Model: linear regression\n",
    "* MSE: 2.33"
   ]
  },
  {
   "cell_type": "code",
   "execution_count": 7,
   "metadata": {},
   "outputs": [],
   "source": [
    "from sklearn.model_selection import train_test_split\n",
    "from sklearn.preprocessing import StandardScaler, Normalizer, OneHotEncoder\n",
    "import matplotlib.pyplot as plt\n",
    "%matplotlib inline\n",
    "import numpy as np\n",
    "import matplotlib.colors as colors\n",
    "from sklearn import pipeline\n"
   ]
  },
  {
   "cell_type": "code",
   "execution_count": 8,
   "metadata": {},
   "outputs": [
    {
     "name": "stderr",
     "output_type": "stream",
     "text": [
      "/usr/local/Cellar/python3/3.6.3/Frameworks/Python.framework/Versions/3.6/lib/python3.6/importlib/_bootstrap.py:219: RuntimeWarning: compiletime version 3.5 of module 'tensorflow.python.framework.fast_tensor_util' does not match runtime version 3.6\n",
      "  return f(*args, **kwds)\n"
     ]
    }
   ],
   "source": [
    "import numpy as np # linear algebra\n",
    "import pandas as pd # data processing, CSV file I/O (e.g. pd.read_csv)\n",
    "import tensorflow as tf\n",
    "from subprocess import check_output\n",
    "#print(check_output([\"ls\", \"./\"]).decode(\"utf8\"))\n",
    "data = pd.read_csv(\"movie_metadata.csv\")"
   ]
  },
  {
   "cell_type": "code",
   "execution_count": 9,
   "metadata": {},
   "outputs": [],
   "source": [
    "\n",
    "select_col = data.select_dtypes(['int64', 'float64']).columns.tolist()\n"
   ]
  },
  {
   "cell_type": "code",
   "execution_count": 10,
   "metadata": {},
   "outputs": [],
   "source": [
    "scaler = Normalizer()"
   ]
  },
  {
   "cell_type": "code",
   "execution_count": 11,
   "metadata": {},
   "outputs": [],
   "source": [
    "data_features_raw = scaler.fit_transform(data[select_col].fillna(0)).astype('float32')\n",
    "data_features_raw = pd.DataFrame(data_features_raw, columns=select_col)\n"
   ]
  },
  {
   "cell_type": "code",
   "execution_count": 12,
   "metadata": {},
   "outputs": [],
   "source": [
    "#data_features_raw = data[select_col].copy().fillna(0)\n",
    "data_labels_raw = data[[\"imdb_score\"]].copy().fillna(0).astype('float32')\n"
   ]
  },
  {
   "cell_type": "code",
   "execution_count": 13,
   "metadata": {},
   "outputs": [],
   "source": [
    "#split = 4000\n",
    "data_features_train_raw, data_features_test_raw, data_labels_train_raw, data_labels_test_raw =\\\n",
    "train_test_split(data_features_raw, data_labels_raw)\n",
    "\n",
    "n_dim = data_features_raw.shape[1]\n",
    "rnd_indices = np.random.rand(len(data_features_raw)) < 0.80\n"
   ]
  },
  {
   "cell_type": "code",
   "execution_count": 14,
   "metadata": {},
   "outputs": [],
   "source": [
    "\n",
    "train_x = np.array(data_features_train_raw)\n",
    "train_y = np.array(data_labels_train_raw)\n",
    "test_x = np.array(data_features_test_raw)\n",
    "test_y = np.array(data_labels_test_raw)\n"
   ]
  },
  {
   "cell_type": "code",
   "execution_count": 15,
   "metadata": {},
   "outputs": [],
   "source": [
    "learning_rate = 0.01 #changed\n",
    "training_epochs = 1000\n",
    "cost_history = np.empty(shape=[1],dtype=float)\n",
    "\n",
    "X = tf.placeholder(tf.float32,[None,n_dim])\n",
    "Y = tf.placeholder(tf.float32,[None,1])\n",
    "W = tf.Variable(tf.ones([n_dim,1]))\n",
    "\n",
    "init = tf.global_variables_initializer()"
   ]
  },
  {
   "cell_type": "code",
   "execution_count": 16,
   "metadata": {},
   "outputs": [],
   "source": [
    "y_ = tf.matmul(X, W)\n",
    "cost = tf.reduce_mean(tf.square(y_ - Y))\n",
    "training_step = tf.train.GradientDescentOptimizer(learning_rate).minimize(cost)"
   ]
  },
  {
   "cell_type": "code",
   "execution_count": 17,
   "metadata": {},
   "outputs": [],
   "source": [
    "sess = tf.Session()\n",
    "sess.run(init)\n",
    "\n",
    "for epoch in range(training_epochs):\n",
    "    sess.run(training_step,feed_dict={X:train_x,Y:train_y})\n",
    "    cost_history = np.append(cost_history,sess.run(cost,feed_dict={X: train_x,Y: train_y}))\n",
    "    \n",
    "    "
   ]
  },
  {
   "cell_type": "code",
   "execution_count": 18,
   "metadata": {},
   "outputs": [
    {
     "data": {
      "image/png": "[encoded data removed]",
      "text/plain": [
       "<matplotlib.figure.Figure at 0x11a4c7b00>"
      ]
     },
     "metadata": {},
     "output_type": "display_data"
    }
   ],
   "source": [
    "plt.plot(range(len(cost_history)),cost_history)\n",
    "plt.axis([0,training_epochs,0,np.max(cost_history)])\n",
    "plt.show()"
   ]
  },
  {
   "cell_type": "code",
   "execution_count": 19,
   "metadata": {},
   "outputs": [
    {
     "name": "stdout",
     "output_type": "stream",
     "text": [
      "MSE: 2.4018\n"
     ]
    },
    {
     "data": {
      "image/png": "[encoded data removed]",
      "text/plain": [
       "<matplotlib.figure.Figure at 0x11a7eb048>"
      ]
     },
     "metadata": {},
     "output_type": "display_data"
    }
   ],
   "source": [
    "pred_y = sess.run(y_, feed_dict={X: test_x})\n",
    "mse = tf.reduce_mean(tf.square(pred_y - test_y))\n",
    "print(\"MSE: %.4f\" % sess.run(mse)) \n",
    "\n",
    "fig, ax = plt.subplots()\n",
    "ax.scatter(test_y, pred_y)\n",
    "ax.plot([test_y.min(), test_y.max()], [test_y.min(), test_y.max()], 'k--', lw=3)\n",
    "ax.set_xlabel('Measured')\n",
    "ax.set_ylabel('Predicted')\n",
    "plt.show()"
   ]
  },
  {
   "cell_type": "markdown",
   "metadata": {},
   "source": [
    "<a id='tag2'></a>\n",
    "### Feature selection + linear regression"
   ]
  },
  {
   "cell_type": "markdown",
   "metadata": {},
   "source": [
    "* Features: numerical features which correlation coefficient > 0.1 or < -0.1\n",
    "* Linear regression\n",
    "* MSE: 1.45"
   ]
  },
  {
   "cell_type": "code",
   "execution_count": 20,
   "metadata": {},
   "outputs": [],
   "source": [
    "import numpy as np # linear algebra\n",
    "import pandas as pd # data processing, CSV file I/O (e.g. pd.read_csv)\n",
    "import tensorflow as tf\n",
    "from subprocess import check_output\n",
    "\n",
    "\n",
    "data = pd.read_csv(\"movie_metadata.csv\")\n",
    "\n",
    "select = np.where(data.select_dtypes(['int64', 'float64']).corr()['imdb_score'] > 0.1)\n",
    "\n",
    "## add negatively correlated\n",
    "select_col = data.select_dtypes(['int64', 'float64']).columns[select].tolist()\n",
    "\n",
    "select_col.append('title_year')\n",
    "\n",
    "scaler = Normalizer()\n",
    "\n",
    "data_features_raw = scaler.fit_transform(data[select_col].fillna(0)).astype('float32')\n",
    "data_features_raw = pd.DataFrame(data_features_raw, columns=select_col)\n",
    "data_features_raw.dtypes\n",
    "\n",
    "#data_features_raw = data[select_col].copy().fillna(0)\n",
    "data_labels_raw = data[[\"imdb_score\"]].copy().fillna(0).astype('float32')\n",
    "\n",
    "#split = 4000\n",
    "data_features_train_raw, data_features_test_raw, data_labels_train_raw, data_labels_test_raw =\\\n",
    "train_test_split(data_features_raw, data_labels_raw)\n",
    "\n",
    "\n",
    "n_dim = data_features_raw.shape[1]\n",
    "rnd_indices = np.random.rand(len(data_features_raw)) < 0.80\n",
    "\n",
    "\n",
    "train_x = np.array(data_features_train_raw)\n",
    "train_y = np.array(data_labels_train_raw)\n",
    "test_x = np.array(data_features_test_raw)\n",
    "test_y = np.array(data_labels_test_raw)\n",
    "\n",
    "learning_rate = 0.01 #changed\n",
    "training_epochs = 1000\n",
    "cost_history = np.empty(shape=[1],dtype=float)\n",
    "\n",
    "X = tf.placeholder(tf.float32,[None,n_dim])\n",
    "Y = tf.placeholder(tf.float32,[None,1])\n",
    "W = tf.Variable(tf.ones([n_dim,1]))\n",
    "\n",
    "init = tf.global_variables_initializer()\n",
    "\n",
    "y_ = tf.matmul(X, W)\n",
    "cost = tf.reduce_mean(tf.square(y_ - Y))\n",
    "training_step = tf.train.GradientDescentOptimizer(learning_rate).minimize(cost)\n",
    "\n",
    "sess = tf.Session()\n",
    "sess.run(init)\n",
    "\n",
    "for epoch in range(training_epochs):\n",
    "    sess.run(training_step,feed_dict={X:train_x,Y:train_y})\n",
    "    cost_history = np.append(cost_history,sess.run(cost,feed_dict={X: train_x,Y: train_y}))\n",
    "     "
   ]
  },
  {
   "cell_type": "code",
   "execution_count": 21,
   "metadata": {},
   "outputs": [
    {
     "data": {
      "image/png": "[encoded data removed]",
      "text/plain": [
       "<matplotlib.figure.Figure at 0x11a7cf588>"
      ]
     },
     "metadata": {},
     "output_type": "display_data"
    }
   ],
   "source": [
    "plt.plot(range(len(cost_history)),cost_history)\n",
    "plt.axis([0,training_epochs,0,np.max(cost_history)])\n",
    "plt.show()"
   ]
  },
  {
   "cell_type": "code",
   "execution_count": 22,
   "metadata": {},
   "outputs": [
    {
     "name": "stdout",
     "output_type": "stream",
     "text": [
      "MSE: 1.4916\n"
     ]
    },
    {
     "data": {
      "image/png": "[encoded data removed]",
      "text/plain": [
       "<matplotlib.figure.Figure at 0x11a4c7710>"
      ]
     },
     "metadata": {},
     "output_type": "display_data"
    }
   ],
   "source": [
    "pred_y = sess.run(y_, feed_dict={X: test_x})\n",
    "mse = tf.reduce_mean(tf.square(pred_y - test_y))\n",
    "print(\"MSE: %.4f\" % sess.run(mse)) \n",
    "\n",
    "fig, ax = plt.subplots()\n",
    "ax.scatter(test_y, pred_y)\n",
    "ax.plot([test_y.min(), test_y.max()], [test_y.min(), test_y.max()], 'k--', lw=3)\n",
    "ax.set_xlabel('Measured')\n",
    "ax.set_ylabel('Predicted')\n",
    "plt.show()"
   ]
  },
  {
   "cell_type": "markdown",
   "metadata": {},
   "source": [
    "<a id='tag3'></a>\n",
    "### Categorical features- linear regression\n",
    "\n",
    "* Features: added categorical features (country, language) and genres1 (first word in the genere feature), added the ***rgb value*** extracted from the major color of ***movie poster***\n",
    "* Reduced the dimension of categorical features by only encode the top 10 of each categories\n",
    "* One-hot encode the categorical features \n",
    "* Feature selection: used selectK best to get ***40 features***\n",
    "* Model linear regression\n",
    "* MSE: 0.94"
   ]
  },
  {
   "cell_type": "code",
   "execution_count": 23,
   "metadata": {},
   "outputs": [],
   "source": [
    "data = pd.read_csv(\"movie_metadata2.csv\")\n",
    "rgb = pd.read_csv('kmeans_color.csv')\n",
    "cluster1_rgb = pd.DataFrame([colors.hex2color(rgb.iloc[i, 0]) for i in range(len(rgb))])\n",
    "cluster2_rgb = pd.DataFrame([colors.hex2color(rgb.iloc[i, 1]) for i in range(len(rgb))])\n",
    "cluster3_rgb = pd.DataFrame([colors.hex2color(rgb.iloc[i, 2]) for i in range(len(rgb))])"
   ]
  },
  {
   "cell_type": "code",
   "execution_count": 24,
   "metadata": {},
   "outputs": [],
   "source": [
    "drop_col = ['color', 'director_name', 'actor_2_name', 'genres', 'actor_1_name',\n",
    "       'movie_title', 'actor_3_name', 'plot_keywords', 'movie_imdb_link','content_rating']"
   ]
  },
  {
   "cell_type": "code",
   "execution_count": 25,
   "metadata": {},
   "outputs": [],
   "source": [
    "data= data.drop(drop_col, axis=1)"
   ]
  },
  {
   "cell_type": "code",
   "execution_count": 26,
   "metadata": {},
   "outputs": [],
   "source": [
    "data_merge = pd.concat([data, cluster1_rgb, cluster2_rgb, cluster3_rgb], \\\n",
    "                axis = 1, ignore_index = True)"
   ]
  },
  {
   "cell_type": "code",
   "execution_count": 27,
   "metadata": {},
   "outputs": [],
   "source": [
    "data_merge.columns = ['num_critic_for_reviews', 'duration', 'director_facebook_likes',\n",
    "       'actor_3_facebook_likes', 'actor_1_facebook_likes', 'gross',\n",
    "       'num_voted_users', 'cast_total_facebook_likes', 'facenumber_in_poster',\n",
    "       'num_user_for_reviews', 'language', 'country', 'budget', 'title_year',\n",
    "       'actor_2_facebook_likes', 'imdb_score', 'aspect_ratio',\n",
    "       'movie_facebook_likes', 'genres1', 'rgb1', 'rgb2', 'rgb3', 'rgb4', 'rgb5', 'rgb6', 'rgb7', 'rgb8', 'rgb9']\n",
    "data = data_merge"
   ]
  },
  {
   "cell_type": "code",
   "execution_count": 28,
   "metadata": {},
   "outputs": [],
   "source": [
    "## reduce language and country categories\n",
    "countries_top = data.country.value_counts()[:10].index\n",
    "language_top = data.language.value_counts()[:10].index"
   ]
  },
  {
   "cell_type": "code",
   "execution_count": 29,
   "metadata": {},
   "outputs": [],
   "source": [
    "data['lanague_new'] = data.language.where(data.language.isin(language_top), 'other_lan')"
   ]
  },
  {
   "cell_type": "code",
   "execution_count": 30,
   "metadata": {},
   "outputs": [],
   "source": [
    "data['country_new'] = data.country.where(data.country.isin(countries_top), 'other_co')"
   ]
  },
  {
   "cell_type": "code",
   "execution_count": 31,
   "metadata": {},
   "outputs": [],
   "source": [
    "data = data.drop(['language', 'country'], axis=1)"
   ]
  },
  {
   "cell_type": "code",
   "execution_count": 32,
   "metadata": {},
   "outputs": [],
   "source": [
    "data = pd.get_dummies(data)"
   ]
  },
  {
   "cell_type": "code",
   "execution_count": 33,
   "metadata": {},
   "outputs": [],
   "source": [
    "from sklearn.feature_selection import SelectKBest, SelectPercentile\n",
    "from sklearn import linear_model"
   ]
  },
  {
   "cell_type": "code",
   "execution_count": 34,
   "metadata": {},
   "outputs": [],
   "source": [
    "## select features using select K best\n",
    "reg = linear_model.LinearRegression()"
   ]
  },
  {
   "cell_type": "code",
   "execution_count": 35,
   "metadata": {},
   "outputs": [],
   "source": [
    "model = pipeline.Pipeline([ \n",
    "    ('selectK',  SelectKBest(k=40)),  \n",
    "    ('reg', reg)\n",
    "])"
   ]
  },
  {
   "cell_type": "code",
   "execution_count": 36,
   "metadata": {},
   "outputs": [],
   "source": [
    "N_FEATURES_OPTIONS = [30, 40, 50]\n",
    "\n",
    "param_grid = [\n",
    "    {\n",
    "        'selectK__k': N_FEATURES_OPTIONS\n",
    "    },\n",
    "]"
   ]
  },
  {
   "cell_type": "code",
   "execution_count": 37,
   "metadata": {},
   "outputs": [
    {
     "data": {
      "text/plain": [
       "((5043, 67), (5043,))"
      ]
     },
     "execution_count": 37,
     "metadata": {},
     "output_type": "execute_result"
    }
   ],
   "source": [
    "data_features_all = data.drop('imdb_score', axis=1)\n",
    "data_target = data.imdb_score\n",
    "data_features_all.shape, data_target.shape"
   ]
  },
  {
   "cell_type": "code",
   "execution_count": 38,
   "metadata": {},
   "outputs": [],
   "source": [
    "data_features_all = data_features_all.fillna(0)"
   ]
  },
  {
   "cell_type": "code",
   "execution_count": 39,
   "metadata": {},
   "outputs": [
    {
     "name": "stderr",
     "output_type": "stream",
     "text": [
      "/usr/local/lib/python3.6/site-packages/sklearn/model_selection/_split.py:2026: FutureWarning: From version 0.21, test_size will always complement train_size unless both are specified.\n",
      "  FutureWarning)\n"
     ]
    }
   ],
   "source": [
    "data_features_train_raw, data_features_test_raw, data_labels_train_raw, data_labels_test_raw =\\\n",
    "train_test_split(data_features_all, data_target, train_size = .8,)"
   ]
  },
  {
   "cell_type": "code",
   "execution_count": 40,
   "metadata": {},
   "outputs": [
    {
     "data": {
      "text/plain": [
       "((4034, 67), (1009, 67))"
      ]
     },
     "execution_count": 40,
     "metadata": {},
     "output_type": "execute_result"
    }
   ],
   "source": [
    "data_features_train_raw.shape, data_features_test_raw.shape"
   ]
  },
  {
   "cell_type": "code",
   "execution_count": 41,
   "metadata": {},
   "outputs": [],
   "source": [
    "from sklearn.feature_selection import chi2, mutual_info_classif\n",
    "from sklearn.model_selection import GridSearchCV"
   ]
  },
  {
   "cell_type": "code",
   "execution_count": 42,
   "metadata": {},
   "outputs": [],
   "source": [
    "grid = GridSearchCV(model, cv=2, n_jobs=1, param_grid=param_grid)\n"
   ]
  },
  {
   "cell_type": "code",
   "execution_count": 43,
   "metadata": {},
   "outputs": [
    {
     "data": {
      "text/html": [
       "<div>\n",
       "<style scoped>\n",
       "    .dataframe tbody tr th:only-of-type {\n",
       "        vertical-align: middle;\n",
       "    }\n",
       "\n",
       "    .dataframe tbody tr th {\n",
       "        vertical-align: top;\n",
       "    }\n",
       "\n",
       "    .dataframe thead th {\n",
       "        text-align: right;\n",
       "    }\n",
       "</style>\n",
       "<table border=\"1\" class=\"dataframe\">\n",
       "  <thead>\n",
       "    <tr style=\"text-align: right;\">\n",
       "      <th></th>\n",
       "      <th>num_critic_for_reviews</th>\n",
       "      <th>duration</th>\n",
       "      <th>director_facebook_likes</th>\n",
       "      <th>actor_3_facebook_likes</th>\n",
       "      <th>actor_1_facebook_likes</th>\n",
       "      <th>gross</th>\n",
       "      <th>num_voted_users</th>\n",
       "      <th>cast_total_facebook_likes</th>\n",
       "      <th>facenumber_in_poster</th>\n",
       "      <th>num_user_for_reviews</th>\n",
       "      <th>...</th>\n",
       "      <th>country_new_Canada</th>\n",
       "      <th>country_new_China</th>\n",
       "      <th>country_new_France</th>\n",
       "      <th>country_new_Germany</th>\n",
       "      <th>country_new_India</th>\n",
       "      <th>country_new_Italy</th>\n",
       "      <th>country_new_Spain</th>\n",
       "      <th>country_new_UK</th>\n",
       "      <th>country_new_USA</th>\n",
       "      <th>country_new_other_co</th>\n",
       "    </tr>\n",
       "  </thead>\n",
       "  <tbody>\n",
       "    <tr>\n",
       "      <th>0</th>\n",
       "      <td>723.0</td>\n",
       "      <td>178.0</td>\n",
       "      <td>0.0</td>\n",
       "      <td>855.0</td>\n",
       "      <td>1000.0</td>\n",
       "      <td>760505847.0</td>\n",
       "      <td>886204</td>\n",
       "      <td>4834</td>\n",
       "      <td>0.0</td>\n",
       "      <td>3054.0</td>\n",
       "      <td>...</td>\n",
       "      <td>0</td>\n",
       "      <td>0</td>\n",
       "      <td>0</td>\n",
       "      <td>0</td>\n",
       "      <td>0</td>\n",
       "      <td>0</td>\n",
       "      <td>0</td>\n",
       "      <td>0</td>\n",
       "      <td>1</td>\n",
       "      <td>0</td>\n",
       "    </tr>\n",
       "    <tr>\n",
       "      <th>1</th>\n",
       "      <td>302.0</td>\n",
       "      <td>169.0</td>\n",
       "      <td>563.0</td>\n",
       "      <td>1000.0</td>\n",
       "      <td>40000.0</td>\n",
       "      <td>309404152.0</td>\n",
       "      <td>471220</td>\n",
       "      <td>48350</td>\n",
       "      <td>0.0</td>\n",
       "      <td>1238.0</td>\n",
       "      <td>...</td>\n",
       "      <td>0</td>\n",
       "      <td>0</td>\n",
       "      <td>0</td>\n",
       "      <td>0</td>\n",
       "      <td>0</td>\n",
       "      <td>0</td>\n",
       "      <td>0</td>\n",
       "      <td>0</td>\n",
       "      <td>1</td>\n",
       "      <td>0</td>\n",
       "    </tr>\n",
       "    <tr>\n",
       "      <th>2</th>\n",
       "      <td>602.0</td>\n",
       "      <td>148.0</td>\n",
       "      <td>0.0</td>\n",
       "      <td>161.0</td>\n",
       "      <td>11000.0</td>\n",
       "      <td>200074175.0</td>\n",
       "      <td>275868</td>\n",
       "      <td>11700</td>\n",
       "      <td>1.0</td>\n",
       "      <td>994.0</td>\n",
       "      <td>...</td>\n",
       "      <td>0</td>\n",
       "      <td>0</td>\n",
       "      <td>0</td>\n",
       "      <td>0</td>\n",
       "      <td>0</td>\n",
       "      <td>0</td>\n",
       "      <td>0</td>\n",
       "      <td>1</td>\n",
       "      <td>0</td>\n",
       "      <td>0</td>\n",
       "    </tr>\n",
       "    <tr>\n",
       "      <th>3</th>\n",
       "      <td>813.0</td>\n",
       "      <td>164.0</td>\n",
       "      <td>22000.0</td>\n",
       "      <td>23000.0</td>\n",
       "      <td>27000.0</td>\n",
       "      <td>448130642.0</td>\n",
       "      <td>1144337</td>\n",
       "      <td>106759</td>\n",
       "      <td>0.0</td>\n",
       "      <td>2701.0</td>\n",
       "      <td>...</td>\n",
       "      <td>0</td>\n",
       "      <td>0</td>\n",
       "      <td>0</td>\n",
       "      <td>0</td>\n",
       "      <td>0</td>\n",
       "      <td>0</td>\n",
       "      <td>0</td>\n",
       "      <td>0</td>\n",
       "      <td>1</td>\n",
       "      <td>0</td>\n",
       "    </tr>\n",
       "    <tr>\n",
       "      <th>4</th>\n",
       "      <td>NaN</td>\n",
       "      <td>NaN</td>\n",
       "      <td>131.0</td>\n",
       "      <td>NaN</td>\n",
       "      <td>131.0</td>\n",
       "      <td>NaN</td>\n",
       "      <td>8</td>\n",
       "      <td>143</td>\n",
       "      <td>0.0</td>\n",
       "      <td>NaN</td>\n",
       "      <td>...</td>\n",
       "      <td>0</td>\n",
       "      <td>0</td>\n",
       "      <td>0</td>\n",
       "      <td>0</td>\n",
       "      <td>0</td>\n",
       "      <td>0</td>\n",
       "      <td>0</td>\n",
       "      <td>0</td>\n",
       "      <td>0</td>\n",
       "      <td>1</td>\n",
       "    </tr>\n",
       "  </tbody>\n",
       "</table>\n",
       "<p>5 rows × 68 columns</p>\n",
       "</div>"
      ],
      "text/plain": [
       "   num_critic_for_reviews  duration  director_facebook_likes  \\\n",
       "0                   723.0     178.0                      0.0   \n",
       "1                   302.0     169.0                    563.0   \n",
       "2                   602.0     148.0                      0.0   \n",
       "3                   813.0     164.0                  22000.0   \n",
       "4                     NaN       NaN                    131.0   \n",
       "\n",
       "   actor_3_facebook_likes  actor_1_facebook_likes        gross  \\\n",
       "0                   855.0                  1000.0  760505847.0   \n",
       "1                  1000.0                 40000.0  309404152.0   \n",
       "2                   161.0                 11000.0  200074175.0   \n",
       "3                 23000.0                 27000.0  448130642.0   \n",
       "4                     NaN                   131.0          NaN   \n",
       "\n",
       "   num_voted_users  cast_total_facebook_likes  facenumber_in_poster  \\\n",
       "0           886204                       4834                   0.0   \n",
       "1           471220                      48350                   0.0   \n",
       "2           275868                      11700                   1.0   \n",
       "3          1144337                     106759                   0.0   \n",
       "4                8                        143                   0.0   \n",
       "\n",
       "   num_user_for_reviews          ...           country_new_Canada  \\\n",
       "0                3054.0          ...                            0   \n",
       "1                1238.0          ...                            0   \n",
       "2                 994.0          ...                            0   \n",
       "3                2701.0          ...                            0   \n",
       "4                   NaN          ...                            0   \n",
       "\n",
       "   country_new_China  country_new_France  country_new_Germany  \\\n",
       "0                  0                   0                    0   \n",
       "1                  0                   0                    0   \n",
       "2                  0                   0                    0   \n",
       "3                  0                   0                    0   \n",
       "4                  0                   0                    0   \n",
       "\n",
       "   country_new_India  country_new_Italy  country_new_Spain  country_new_UK  \\\n",
       "0                  0                  0                  0               0   \n",
       "1                  0                  0                  0               0   \n",
       "2                  0                  0                  0               1   \n",
       "3                  0                  0                  0               0   \n",
       "4                  0                  0                  0               0   \n",
       "\n",
       "   country_new_USA  country_new_other_co  \n",
       "0                1                     0  \n",
       "1                1                     0  \n",
       "2                0                     0  \n",
       "3                1                     0  \n",
       "4                0                     1  \n",
       "\n",
       "[5 rows x 68 columns]"
      ]
     },
     "execution_count": 43,
     "metadata": {},
     "output_type": "execute_result"
    }
   ],
   "source": [
    "data.head()"
   ]
  },
  {
   "cell_type": "code",
   "execution_count": 44,
   "metadata": {},
   "outputs": [
    {
     "name": "stderr",
     "output_type": "stream",
     "text": [
      "/usr/local/lib/python3.6/site-packages/sklearn/feature_selection/univariate_selection.py:113: UserWarning: Features [34 35 38 39] are constant.\n",
      "  UserWarning)\n",
      "/usr/local/lib/python3.6/site-packages/sklearn/feature_selection/univariate_selection.py:114: RuntimeWarning: invalid value encountered in true_divide\n",
      "  f = msb / msw\n",
      "/usr/local/lib/python3.6/site-packages/scipy/linalg/basic.py:1226: RuntimeWarning: internal gelsd driver lwork query error, required iwork dimension not returned. This is likely the result of LAPACK bug 0038, fixed in LAPACK 3.2.2 (released July 21, 2010). Falling back to 'gelss' driver.\n",
      "  warnings.warn(mesg, RuntimeWarning)\n",
      "/usr/local/lib/python3.6/site-packages/sklearn/feature_selection/univariate_selection.py:113: UserWarning: Features [35 36 38] are constant.\n",
      "  UserWarning)\n",
      "/usr/local/lib/python3.6/site-packages/sklearn/feature_selection/univariate_selection.py:114: RuntimeWarning: invalid value encountered in true_divide\n",
      "  f = msb / msw\n",
      "/usr/local/lib/python3.6/site-packages/sklearn/feature_selection/univariate_selection.py:113: UserWarning: Features [34 35 38 39] are constant.\n",
      "  UserWarning)\n",
      "/usr/local/lib/python3.6/site-packages/sklearn/feature_selection/univariate_selection.py:114: RuntimeWarning: invalid value encountered in true_divide\n",
      "  f = msb / msw\n",
      "/usr/local/lib/python3.6/site-packages/sklearn/feature_selection/univariate_selection.py:113: UserWarning: Features [35 36 38] are constant.\n",
      "  UserWarning)\n",
      "/usr/local/lib/python3.6/site-packages/sklearn/feature_selection/univariate_selection.py:114: RuntimeWarning: invalid value encountered in true_divide\n",
      "  f = msb / msw\n",
      "/usr/local/lib/python3.6/site-packages/sklearn/feature_selection/univariate_selection.py:113: UserWarning: Features [34 35 38 39] are constant.\n",
      "  UserWarning)\n",
      "/usr/local/lib/python3.6/site-packages/sklearn/feature_selection/univariate_selection.py:114: RuntimeWarning: invalid value encountered in true_divide\n",
      "  f = msb / msw\n",
      "/usr/local/lib/python3.6/site-packages/sklearn/feature_selection/univariate_selection.py:113: UserWarning: Features [35 36 38] are constant.\n",
      "  UserWarning)\n",
      "/usr/local/lib/python3.6/site-packages/sklearn/feature_selection/univariate_selection.py:114: RuntimeWarning: invalid value encountered in true_divide\n",
      "  f = msb / msw\n",
      "/usr/local/lib/python3.6/site-packages/sklearn/feature_selection/univariate_selection.py:113: UserWarning: Features [35 38] are constant.\n",
      "  UserWarning)\n",
      "/usr/local/lib/python3.6/site-packages/sklearn/feature_selection/univariate_selection.py:114: RuntimeWarning: invalid value encountered in true_divide\n",
      "  f = msb / msw\n"
     ]
    },
    {
     "data": {
      "text/plain": [
       "GridSearchCV(cv=2, error_score='raise',\n",
       "       estimator=Pipeline(memory=None,\n",
       "     steps=[('selectK', SelectKBest(k=40, score_func=<function f_classif at 0x10cede9d8>)), ('reg', LinearRegression(copy_X=True, fit_intercept=True, n_jobs=1, normalize=False))]),\n",
       "       fit_params=None, iid=True, n_jobs=1,\n",
       "       param_grid=[{'selectK__k': [30, 40, 50]}], pre_dispatch='2*n_jobs',\n",
       "       refit=True, return_train_score='warn', scoring=None, verbose=0)"
      ]
     },
     "execution_count": 44,
     "metadata": {},
     "output_type": "execute_result"
    }
   ],
   "source": [
    "grid.fit(data_features_train_raw, data_labels_train_raw)"
   ]
  },
  {
   "cell_type": "code",
   "execution_count": 45,
   "metadata": {},
   "outputs": [
    {
     "data": {
      "text/plain": [
       "{'selectK__k': 30}"
      ]
     },
     "execution_count": 45,
     "metadata": {},
     "output_type": "execute_result"
    }
   ],
   "source": [
    "grid.best_params_"
   ]
  },
  {
   "cell_type": "code",
   "execution_count": 46,
   "metadata": {},
   "outputs": [
    {
     "name": "stderr",
     "output_type": "stream",
     "text": [
      "/usr/local/lib/python3.6/site-packages/sklearn/feature_selection/univariate_selection.py:113: UserWarning: Features [35 38] are constant.\n",
      "  UserWarning)\n",
      "/usr/local/lib/python3.6/site-packages/sklearn/feature_selection/univariate_selection.py:114: RuntimeWarning: invalid value encountered in true_divide\n",
      "  f = msb / msw\n"
     ]
    },
    {
     "data": {
      "text/plain": [
       "40"
      ]
     },
     "execution_count": 46,
     "metadata": {},
     "output_type": "execute_result"
    }
   ],
   "source": [
    "sel_k = model.named_steps['selectK']\n",
    "sel_k.fit(data_features_train_raw, data_labels_train_raw)\n",
    "nice_col = sel_k.get_support(indices= True)\n",
    "len(nice_col)"
   ]
  },
  {
   "cell_type": "code",
   "execution_count": 47,
   "metadata": {},
   "outputs": [
    {
     "data": {
      "text/plain": [
       "Index(['num_critic_for_reviews', 'duration', 'director_facebook_likes',\n",
       "       'actor_3_facebook_likes', 'actor_1_facebook_likes', 'gross',\n",
       "       'num_voted_users', 'cast_total_facebook_likes', 'facenumber_in_poster',\n",
       "       'num_user_for_reviews', 'title_year', 'actor_2_facebook_likes',\n",
       "       'aspect_ratio', 'movie_facebook_likes', 'rgb4', 'rgb8', 'rgb9',\n",
       "       'genres1_Action', 'genres1_Biography', 'genres1_Comedy',\n",
       "       'genres1_Crime', 'genres1_Documentary', 'genres1_Drama',\n",
       "       'genres1_Family', 'genres1_Horror', 'genres1_Musical', 'genres1_Sci-Fi',\n",
       "       'genres1_Thriller', 'lanague_new_English', 'lanague_new_German',\n",
       "       'lanague_new_Italian', 'lanague_new_Japanese', 'lanague_new_other_lan',\n",
       "       'country_new_Canada', 'country_new_France', 'country_new_India',\n",
       "       'country_new_Italy', 'country_new_UK', 'country_new_USA',\n",
       "       'country_new_other_co'],\n",
       "      dtype='object')"
      ]
     },
     "execution_count": 47,
     "metadata": {},
     "output_type": "execute_result"
    }
   ],
   "source": [
    "nice_name = data_features_train_raw.columns[nice_col]\n",
    "nice_name"
   ]
  },
  {
   "cell_type": "code",
   "execution_count": 48,
   "metadata": {},
   "outputs": [],
   "source": [
    "y_pred = grid.predict(data_features_test_raw)"
   ]
  },
  {
   "cell_type": "code",
   "execution_count": 49,
   "metadata": {},
   "outputs": [
    {
     "data": {
      "text/plain": [
       "<matplotlib.collections.PathCollection at 0x119ed67b8>"
      ]
     },
     "execution_count": 49,
     "metadata": {},
     "output_type": "execute_result"
    },
    {
     "data": {
      "image/png": "[encoded data removed]",
      "text/plain": [
       "<matplotlib.figure.Figure at 0x11a8b3630>"
      ]
     },
     "metadata": {},
     "output_type": "display_data"
    }
   ],
   "source": [
    "plt.scatter(y_pred, data_labels_test_raw)"
   ]
  },
  {
   "cell_type": "code",
   "execution_count": 50,
   "metadata": {},
   "outputs": [],
   "source": [
    "from sklearn.metrics import mean_squared_error"
   ]
  },
  {
   "cell_type": "code",
   "execution_count": 51,
   "metadata": {},
   "outputs": [
    {
     "data": {
      "text/plain": [
       "0.74076293958214534"
      ]
     },
     "execution_count": 51,
     "metadata": {},
     "output_type": "execute_result"
    }
   ],
   "source": [
    "mean_squared_error(data_labels_test_raw, y_pred)"
   ]
  },
  {
   "cell_type": "markdown",
   "metadata": {},
   "source": [
    "<a id='tag4'></a>\n",
    "### Add categorical features + ridge regression\n",
    "\n",
    "* Features: added categorical features (country, language) and genres1 (first word in the genere feature), added the ***rgb value*** extracted from the major color of ***movie poster***\n",
    "* Reduced the dimension of categorical features by only encode the top 10 of each categories\n",
    "* One-hot encode the categorical features \n",
    "* Feature selection: used selectK best to get ***40 features***\n",
    "* Model: ridge regression\n",
    "* MSE: 0.73\n"
   ]
  },
  {
   "cell_type": "code",
   "execution_count": 653,
   "metadata": {},
   "outputs": [],
   "source": [
    "init = tf.global_variables_initializer()\n",
    "\n",
    "y_ = tf.matmul(X, W)\n",
    "cost = tf.reduce_mean(tf.square(y_ - Y))\n",
    "training_step = tf.train.GradientDescentOptimizer(learning_rate).minimize(cost)\n",
    "\n",
    "sess = tf.Session()\n",
    "sess.run(init)\n",
    "\n",
    "for epoch in range(training_epochs):\n",
    "    sess.run(training_step,feed_dict={X:train_x,Y:train_y})\n",
    "    cost_history = np.append(cost_history,sess.run(cost,feed_dict={X: train_x,Y: train_y}))\n",
    "    \n",
    "    "
   ]
  },
  {
   "cell_type": "code",
   "execution_count": 5,
   "metadata": {},
   "outputs": [],
   "source": [
    "from sklearn.linear_model import Ridge"
   ]
  },
  {
   "cell_type": "code",
   "execution_count": 52,
   "metadata": {},
   "outputs": [],
   "source": [
    "model = pipeline.Pipeline([ \n",
    "    ('selectK',  SelectKBest(k=40)),  \n",
    "    ('reg', Ridge())\n",
    "])"
   ]
  },
  {
   "cell_type": "code",
   "execution_count": 53,
   "metadata": {},
   "outputs": [
    {
     "name": "stderr",
     "output_type": "stream",
     "text": [
      "/usr/local/lib/python3.6/site-packages/sklearn/feature_selection/univariate_selection.py:113: UserWarning: Features [35 38] are constant.\n",
      "  UserWarning)\n",
      "/usr/local/lib/python3.6/site-packages/sklearn/feature_selection/univariate_selection.py:114: RuntimeWarning: invalid value encountered in true_divide\n",
      "  f = msb / msw\n",
      "/usr/local/lib/python3.6/site-packages/scipy/linalg/basic.py:40: RuntimeWarning: scipy.linalg.solve\n",
      "Ill-conditioned matrix detected. Result is not guaranteed to be accurate.\n",
      "Reciprocal condition number/precision: 2.1766349673081063e-19 / 1.1102230246251565e-16\n",
      "  RuntimeWarning)\n"
     ]
    },
    {
     "data": {
      "text/plain": [
       "Pipeline(memory=None,\n",
       "     steps=[('selectK', SelectKBest(k=40, score_func=<function f_classif at 0x10cede9d8>)), ('reg', Ridge(alpha=1.0, copy_X=True, fit_intercept=True, max_iter=None,\n",
       "   normalize=False, random_state=None, solver='auto', tol=0.001))])"
      ]
     },
     "execution_count": 53,
     "metadata": {},
     "output_type": "execute_result"
    }
   ],
   "source": [
    "model.fit(data_features_train_raw, data_labels_train_raw)"
   ]
  },
  {
   "cell_type": "code",
   "execution_count": 60,
   "metadata": {},
   "outputs": [
    {
     "data": {
      "text/plain": [
       "<matplotlib.collections.PathCollection at 0x11aa8e780>"
      ]
     },
     "execution_count": 60,
     "metadata": {},
     "output_type": "execute_result"
    },
    {
     "data": {
      "image/png": "[encoded data removed]",
      "text/plain": [
       "<matplotlib.figure.Figure at 0x1099c3b00>"
      ]
     },
     "metadata": {},
     "output_type": "display_data"
    }
   ],
   "source": [
    "y_pred = model.predict(data_features_test_raw)\n",
    "plt.scatter(y_pred, data_labels_test_raw)"
   ]
  },
  {
   "cell_type": "code",
   "execution_count": 61,
   "metadata": {},
   "outputs": [
    {
     "data": {
      "text/plain": [
       "0.73125751620908941"
      ]
     },
     "execution_count": 61,
     "metadata": {},
     "output_type": "execute_result"
    }
   ],
   "source": [
    "mean_squared_error(data_labels_test_raw, y_pred)"
   ]
  },
  {
   "cell_type": "raw",
   "metadata": {},
   "source": [
    "## save results\n",
    "data_features_test_raw.title_year.index\n",
    "\n",
    "data = pd.read_csv('movie_metadata2.csv')\n",
    "data.loc[data_features_test_raw.title_year.index].head()\n",
    "data.mov\n",
    "\n",
    "title = pd.DataFrame(data.loc[data_features_test_raw.title_year.index]['movie_title']).reset_index(drop = True)\n",
    "true_imdb_score =  pd.DataFrame(data.loc[data_features_test_raw.title_year.index]['imdb_score']).\\\n",
    "reset_index(drop = True)\n",
    "\n",
    "result = pd.concat([title, \\\n",
    "                    true_imdb_score,\\\n",
    "                    pd.DataFrame(y_pred)],\n",
    "                  axis = 1, ignore_index = True)\n",
    "\n",
    "result.columns = ['title', 'true_imdb_score', 'prediction_imdb_score']\n",
    "\n",
    "result.to_csv('ridge_40_feature_result.csv', index=None)"
   ]
  }
 ],
 "metadata": {
  "kernelspec": {
   "display_name": "Python 3",
   "language": "python",
   "name": "python3"
  },
  "language_info": {
   "codemirror_mode": {
    "name": "ipython",
    "version": 3
   },
   "file_extension": ".py",
   "mimetype": "text/x-python",
   "name": "python",
   "nbconvert_exporter": "python",
   "pygments_lexer": "ipython3",
   "version": "3.6.3"
  }
 },
 "nbformat": 4,
 "nbformat_minor": 2
}
