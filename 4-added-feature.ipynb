{
 "cells": [
  {
   "cell_type": "markdown",
   "metadata": {},
   "source": [
    "## Download poster images from json file"
   ]
  },
  {
   "cell_type": "markdown",
   "metadata": {},
   "source": [
    "Below is the code used to download movie posters. It takes about 2 hr to download all the posters."
   ]
  },
  {
   "cell_type": "raw",
   "metadata": {},
   "source": []
  },
  {
   "cell_type": "code",
   "execution_count": 1,
   "metadata": {},
   "outputs": [],
   "source": [
    "import json\n",
    "with open('imdb_output.json', 'r') as f:\n",
    "    out = json.load(f)"
   ]
  },
  {
   "cell_type": "code",
   "execution_count": 73,
   "metadata": {},
   "outputs": [],
   "source": [
    "from bs4 import BeautifulSoup\n",
    "import requests\n",
    "import re\n",
    "import urllib\n",
    "import os\n",
    "import numpy as np\n",
    "import PIL\n",
    "import matplotlib.pyplot as plt\n",
    "%matplotlib inline\n",
    "import pandas as pd\n",
    "import seaborn as sns"
   ]
  },
  {
   "cell_type": "code",
   "execution_count": 75,
   "metadata": {},
   "outputs": [],
   "source": [
    "from IPython.display import Image\n",
    "from IPython.core.display import HTML \n",
    "#Image(\"./image/1.jpg\", width = 200, height = 400)\n"
   ]
  },
  {
   "cell_type": "markdown",
   "metadata": {},
   "source": [
    "## Convert color into rgb values"
   ]
  },
  {
   "cell_type": "markdown",
   "metadata": {},
   "source": [
    "After extracting the major colors, we converted the color into rgb values and checked the correlation between rgb values and the movie imdb scores."
   ]
  },
  {
   "cell_type": "code",
   "execution_count": 4,
   "metadata": {},
   "outputs": [],
   "source": [
    "from PIL import Image\n",
    "from collections import namedtuple\n",
    "from math import sqrt\n",
    "import random\n",
    "from matplotlib import patches"
   ]
  },
  {
   "cell_type": "code",
   "execution_count": 50,
   "metadata": {},
   "outputs": [],
   "source": [
    "rgb = pd.read_csv('kmeans_color.csv')\n",
    "meta = pd.read_csv('movie_metadata.csv')"
   ]
  },
  {
   "cell_type": "code",
   "execution_count": 32,
   "metadata": {},
   "outputs": [
    {
     "data": {
      "text/plain": [
       "(0.23137254901960785, 0.2627450980392157, 0.3686274509803922)"
      ]
     },
     "execution_count": 32,
     "metadata": {},
     "output_type": "execute_result"
    }
   ],
   "source": [
    "## change hex to rgb\n",
    "import matplotlib.colors as colors\n",
    "colors.hex2color(rgb.iloc[0,1])"
   ]
  },
  {
   "cell_type": "code",
   "execution_count": 69,
   "metadata": {},
   "outputs": [],
   "source": [
    "cluster1_rgb = pd.DataFrame([colors.hex2color(rgb.iloc[i, 0]) for i in range(len(rgb))])\n",
    "cluster2_rgb = pd.DataFrame([colors.hex2color(rgb.iloc[i, 1]) for i in range(len(rgb))])\n",
    "cluster3_rgb = pd.DataFrame([colors.hex2color(rgb.iloc[i, 2]) for i in range(len(rgb))])"
   ]
  },
  {
   "cell_type": "code",
   "execution_count": 28,
   "metadata": {},
   "outputs": [],
   "source": [
    "#del rgb"
   ]
  },
  {
   "cell_type": "code",
   "execution_count": 70,
   "metadata": {},
   "outputs": [],
   "source": [
    "cluster_rgb = pd.concat([pd.DataFrame(meta.imdb_score), \\\n",
    "                          cluster1_rgb, \\\n",
    "                         cluster2_rgb, \\\n",
    "                          cluster3_rgb], \\\n",
    "                         axis=1, ignore_index=True)"
   ]
  },
  {
   "cell_type": "code",
   "execution_count": 71,
   "metadata": {},
   "outputs": [],
   "source": [
    "del cluster1_rgb, cluster2_rgb, cluster3_rgb"
   ]
  },
  {
   "cell_type": "code",
   "execution_count": 77,
   "metadata": {},
   "outputs": [
    {
     "data": {
      "text/html": [
       "<div>\n",
       "<style scoped>\n",
       "    .dataframe tbody tr th:only-of-type {\n",
       "        vertical-align: middle;\n",
       "    }\n",
       "\n",
       "    .dataframe tbody tr th {\n",
       "        vertical-align: top;\n",
       "    }\n",
       "\n",
       "    .dataframe thead th {\n",
       "        text-align: right;\n",
       "    }\n",
       "</style>\n",
       "<table border=\"1\" class=\"dataframe\">\n",
       "  <thead>\n",
       "    <tr style=\"text-align: right;\">\n",
       "      <th></th>\n",
       "      <th>0</th>\n",
       "      <th>1</th>\n",
       "      <th>2</th>\n",
       "      <th>3</th>\n",
       "      <th>4</th>\n",
       "      <th>5</th>\n",
       "      <th>6</th>\n",
       "      <th>7</th>\n",
       "      <th>8</th>\n",
       "      <th>9</th>\n",
       "    </tr>\n",
       "  </thead>\n",
       "  <tbody>\n",
       "    <tr>\n",
       "      <th>0</th>\n",
       "      <td>1.000000</td>\n",
       "      <td>0.003573</td>\n",
       "      <td>-0.004316</td>\n",
       "      <td>-0.018401</td>\n",
       "      <td>-0.023696</td>\n",
       "      <td>-0.014035</td>\n",
       "      <td>-0.024739</td>\n",
       "      <td>-0.023805</td>\n",
       "      <td>-0.033537</td>\n",
       "      <td>-0.055326</td>\n",
       "    </tr>\n",
       "    <tr>\n",
       "      <th>1</th>\n",
       "      <td>0.003573</td>\n",
       "      <td>1.000000</td>\n",
       "      <td>0.887796</td>\n",
       "      <td>0.741266</td>\n",
       "      <td>-0.124915</td>\n",
       "      <td>-0.164089</td>\n",
       "      <td>-0.156418</td>\n",
       "      <td>-0.124908</td>\n",
       "      <td>-0.170660</td>\n",
       "      <td>-0.169074</td>\n",
       "    </tr>\n",
       "    <tr>\n",
       "      <th>2</th>\n",
       "      <td>-0.004316</td>\n",
       "      <td>0.887796</td>\n",
       "      <td>1.000000</td>\n",
       "      <td>0.922920</td>\n",
       "      <td>-0.173316</td>\n",
       "      <td>-0.177294</td>\n",
       "      <td>-0.149512</td>\n",
       "      <td>-0.173284</td>\n",
       "      <td>-0.181195</td>\n",
       "      <td>-0.164904</td>\n",
       "    </tr>\n",
       "    <tr>\n",
       "      <th>3</th>\n",
       "      <td>-0.018401</td>\n",
       "      <td>0.741266</td>\n",
       "      <td>0.922920</td>\n",
       "      <td>1.000000</td>\n",
       "      <td>-0.170300</td>\n",
       "      <td>-0.161886</td>\n",
       "      <td>-0.104154</td>\n",
       "      <td>-0.170814</td>\n",
       "      <td>-0.163484</td>\n",
       "      <td>-0.115671</td>\n",
       "    </tr>\n",
       "    <tr>\n",
       "      <th>4</th>\n",
       "      <td>-0.023696</td>\n",
       "      <td>-0.124915</td>\n",
       "      <td>-0.173316</td>\n",
       "      <td>-0.170300</td>\n",
       "      <td>1.000000</td>\n",
       "      <td>0.906417</td>\n",
       "      <td>0.762988</td>\n",
       "      <td>-0.122335</td>\n",
       "      <td>-0.167789</td>\n",
       "      <td>-0.156197</td>\n",
       "    </tr>\n",
       "    <tr>\n",
       "      <th>5</th>\n",
       "      <td>-0.014035</td>\n",
       "      <td>-0.164089</td>\n",
       "      <td>-0.177294</td>\n",
       "      <td>-0.161886</td>\n",
       "      <td>0.906417</td>\n",
       "      <td>1.000000</td>\n",
       "      <td>0.920806</td>\n",
       "      <td>-0.177603</td>\n",
       "      <td>-0.187081</td>\n",
       "      <td>-0.159340</td>\n",
       "    </tr>\n",
       "    <tr>\n",
       "      <th>6</th>\n",
       "      <td>-0.024739</td>\n",
       "      <td>-0.156418</td>\n",
       "      <td>-0.149512</td>\n",
       "      <td>-0.104154</td>\n",
       "      <td>0.762988</td>\n",
       "      <td>0.920806</td>\n",
       "      <td>1.000000</td>\n",
       "      <td>-0.177942</td>\n",
       "      <td>-0.172997</td>\n",
       "      <td>-0.116821</td>\n",
       "    </tr>\n",
       "    <tr>\n",
       "      <th>7</th>\n",
       "      <td>-0.023805</td>\n",
       "      <td>-0.124908</td>\n",
       "      <td>-0.173284</td>\n",
       "      <td>-0.170814</td>\n",
       "      <td>-0.122335</td>\n",
       "      <td>-0.177603</td>\n",
       "      <td>-0.177942</td>\n",
       "      <td>1.000000</td>\n",
       "      <td>0.887997</td>\n",
       "      <td>0.743168</td>\n",
       "    </tr>\n",
       "    <tr>\n",
       "      <th>8</th>\n",
       "      <td>-0.033537</td>\n",
       "      <td>-0.170660</td>\n",
       "      <td>-0.181195</td>\n",
       "      <td>-0.163484</td>\n",
       "      <td>-0.167789</td>\n",
       "      <td>-0.187081</td>\n",
       "      <td>-0.172997</td>\n",
       "      <td>0.887997</td>\n",
       "      <td>1.000000</td>\n",
       "      <td>0.922890</td>\n",
       "    </tr>\n",
       "    <tr>\n",
       "      <th>9</th>\n",
       "      <td>-0.055326</td>\n",
       "      <td>-0.169074</td>\n",
       "      <td>-0.164904</td>\n",
       "      <td>-0.115671</td>\n",
       "      <td>-0.156197</td>\n",
       "      <td>-0.159340</td>\n",
       "      <td>-0.116821</td>\n",
       "      <td>0.743168</td>\n",
       "      <td>0.922890</td>\n",
       "      <td>1.000000</td>\n",
       "    </tr>\n",
       "  </tbody>\n",
       "</table>\n",
       "</div>"
      ],
      "text/plain": [
       "          0         1         2         3         4         5         6  \\\n",
       "0  1.000000  0.003573 -0.004316 -0.018401 -0.023696 -0.014035 -0.024739   \n",
       "1  0.003573  1.000000  0.887796  0.741266 -0.124915 -0.164089 -0.156418   \n",
       "2 -0.004316  0.887796  1.000000  0.922920 -0.173316 -0.177294 -0.149512   \n",
       "3 -0.018401  0.741266  0.922920  1.000000 -0.170300 -0.161886 -0.104154   \n",
       "4 -0.023696 -0.124915 -0.173316 -0.170300  1.000000  0.906417  0.762988   \n",
       "5 -0.014035 -0.164089 -0.177294 -0.161886  0.906417  1.000000  0.920806   \n",
       "6 -0.024739 -0.156418 -0.149512 -0.104154  0.762988  0.920806  1.000000   \n",
       "7 -0.023805 -0.124908 -0.173284 -0.170814 -0.122335 -0.177603 -0.177942   \n",
       "8 -0.033537 -0.170660 -0.181195 -0.163484 -0.167789 -0.187081 -0.172997   \n",
       "9 -0.055326 -0.169074 -0.164904 -0.115671 -0.156197 -0.159340 -0.116821   \n",
       "\n",
       "          7         8         9  \n",
       "0 -0.023805 -0.033537 -0.055326  \n",
       "1 -0.124908 -0.170660 -0.169074  \n",
       "2 -0.173284 -0.181195 -0.164904  \n",
       "3 -0.170814 -0.163484 -0.115671  \n",
       "4 -0.122335 -0.167789 -0.156197  \n",
       "5 -0.177603 -0.187081 -0.159340  \n",
       "6 -0.177942 -0.172997 -0.116821  \n",
       "7  1.000000  0.887997  0.743168  \n",
       "8  0.887997  1.000000  0.922890  \n",
       "9  0.743168  0.922890  1.000000  "
      ]
     },
     "execution_count": 77,
     "metadata": {},
     "output_type": "execute_result"
    },
    {
     "data": {
      "image/png": "[encoded data removed]",
      "text/plain": [
       "<matplotlib.figure.Figure at 0x11325e6d8>"
      ]
     },
     "metadata": {},
     "output_type": "display_data"
    }
   ],
   "source": [
    "# Set up the matplotlib figure\n",
    "f, ax = plt.subplots(figsize=(7, 7))\n",
    "plt.title('Pearson Correlation of Movie Features')\n",
    "# Draw the heatmap using seaborn\n",
    "sns.heatmap(cluster_rgb.astype(float).corr(),linewidths=0.25,vmax=1.0, square=True, cmap=\"YlGnBu\")\n",
    "cluster_rgb.astype(float).corr()"
   ]
  },
  {
   "cell_type": "markdown",
   "metadata": {},
   "source": [
    "We see that the rgb values are highly correlated within each cluster, but they do not have very good correlation with imdb scores. According to [this post](http://rstudio-pubs-static.s3.amazonaws.com/155921_d1b0d531118d46839a747b7c8b90e08b.html), the k-means clustered color might be related to the genere but not necessarily the imdb score. "
   ]
  }
 ],
 "metadata": {
  "kernelspec": {
   "display_name": "Python 3",
   "language": "python",
   "name": "python3"
  },
  "language_info": {
   "codemirror_mode": {
    "name": "ipython",
    "version": 3
   },
   "file_extension": ".py",
   "mimetype": "text/x-python",
   "name": "python",
   "nbconvert_exporter": "python",
   "pygments_lexer": "ipython3",
   "version": "3.6.3"
  }
 },
 "nbformat": 4,
 "nbformat_minor": 2
}
